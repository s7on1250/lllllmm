{
 "cells": [
  {
   "cell_type": "code",
   "execution_count": 5,
   "id": "initial_id",
   "metadata": {
    "collapsed": true,
    "ExecuteTime": {
     "end_time": "2024-12-04T18:23:41.158091Z",
     "start_time": "2024-12-04T18:23:27.558600Z"
    }
   },
   "outputs": [
    {
     "name": "stdout",
     "output_type": "stream",
     "text": [
      "Requirement already satisfied: PyPDF2 in c:\\users\\amirc\\anaconda3\\lib\\site-packages (3.0.1)\n",
      "Requirement already satisfied: typing_extensions>=3.10.0.0 in c:\\users\\amirc\\anaconda3\\lib\\site-packages (from PyPDF2) (4.11.0)\n",
      "Data has been saved to articles.csv\n"
     ]
    }
   ],
   "source": [
    "!pip install PyPDF2\n",
    "import re\n",
    "import csv\n",
    "from PyPDF2 import PdfReader\n",
    "\n",
    "def extract_articles_from_pdf(pdf_path, pattern):\n",
    "    \"\"\"\n",
    "    Extracts articles and their text from a given PDF based on the regex pattern.\n",
    "    \"\"\"\n",
    "    reader = PdfReader(pdf_path)\n",
    "    text = \"\"\n",
    "    for page in reader.pages:\n",
    "        text += page.extract_text()\n",
    "\n",
    "    # Find all matches of the pattern\n",
    "    matches = re.findall(pattern, text, re.DOTALL)\n",
    "    return matches\n",
    "\n",
    "def save_to_csv(data, output_csv):\n",
    "    \"\"\"\n",
    "    Saves extracted data into a CSV file.\n",
    "    \"\"\"\n",
    "    with open(output_csv, mode='w', newline='', encoding='utf-8') as file:\n",
    "        writer = csv.writer(file)\n",
    "        writer.writerow([\"Article Number\", \"Text\"])\n",
    "        writer.writerows(data)\n",
    "\n",
    "def main(pdf_files, output_csv):\n",
    "    \"\"\"\n",
    "    Main function to extract articles from multiple PDFs and save to a CSV.\n",
    "    \"\"\"\n",
    "    pattern = r\"((?:Статья\\s*)?\\d+\\.\\d*)\\s(.*?)(?=\\s(?:Статья\\s*)?\\d+\\.\\d*|$)\"\n",
    "    all_data = []\n",
    "    for pdf_file in pdf_files:\n",
    "        extracted_data = extract_articles_from_pdf(pdf_file, pattern)\n",
    "        all_data.extend(extracted_data)\n",
    "\n",
    "    save_to_csv(all_data, output_csv)\n",
    "    print(f\"Data has been saved to {output_csv}\")\n",
    "\n",
    "# List of PDF files to process\n",
    "pdf_files = [\"../data/Кодекс профессиональной этики врача Российской Федерации от 05 октября 2012 - docs.cntd.ru.pdf\", \"../data/Об обязательном медицинском страховании в Российской Федерации.pdf\", \"../data/Федеральный закон от 21 ноября 2011 г. № 323-ФЗ _Об основах охраны здоровья граждан в Российской Федерации_.pdf\"]\n",
    "output_csv = \"articles.csv\"\n",
    "\n",
    "# Execute the main function\n",
    "main(pdf_files, output_csv)\n"
   ]
  },
  {
   "cell_type": "code",
   "outputs": [
    {
     "data": {
      "text/plain": "     Article Number                                               Text\n0             2024.  Иск лючительные ав торские и сме жные прав а п...\n1              29.1  1.2010 г . № 326-ФЗ (Собрание зак онодательств...\n2           12.2010                 г .; \"Пар ламент ская\\nгазет а\" от\n3           12.2010                             г .)\\nПо cоcт оянию на\n4           12.2024  г .\\n \\n \\nРОССИЙСКАЯ ФЕДЕР АЦИЯ\\n \\nФЕДЕР АЛЬ...\n...             ...                                                ...\n1436             7.  Положения части 4 статьи 38 настоящего Федерал...\n1437             8.  Положения частей 5 - 8 статьи 34 настоящего Фе...\n1438             9.  Части 3 - 5 статьи 100 применяются до дня всту...\n1439        11.2011                                  N 323-ФЗ (ред. от\n1440            1.8  МБ\\n26\\n 35\\n 84 18\\nВСЕ КОММЕНТАРИИ  |ПОПУЛЯР...\n\n[1441 rows x 2 columns]",
      "text/html": "<div>\n<style scoped>\n    .dataframe tbody tr th:only-of-type {\n        vertical-align: middle;\n    }\n\n    .dataframe tbody tr th {\n        vertical-align: top;\n    }\n\n    .dataframe thead th {\n        text-align: right;\n    }\n</style>\n<table border=\"1\" class=\"dataframe\">\n  <thead>\n    <tr style=\"text-align: right;\">\n      <th></th>\n      <th>Article Number</th>\n      <th>Text</th>\n    </tr>\n  </thead>\n  <tbody>\n    <tr>\n      <th>0</th>\n      <td>2024.</td>\n      <td>Иск лючительные ав торские и сме жные прав а п...</td>\n    </tr>\n    <tr>\n      <th>1</th>\n      <td>29.1</td>\n      <td>1.2010 г . № 326-ФЗ (Собрание зак онодательств...</td>\n    </tr>\n    <tr>\n      <th>2</th>\n      <td>12.2010</td>\n      <td>г .; \"Пар ламент ская\\nгазет а\" от</td>\n    </tr>\n    <tr>\n      <th>3</th>\n      <td>12.2010</td>\n      <td>г .)\\nПо cоcт оянию на</td>\n    </tr>\n    <tr>\n      <th>4</th>\n      <td>12.2024</td>\n      <td>г .\\n \\n \\nРОССИЙСКАЯ ФЕДЕР АЦИЯ\\n \\nФЕДЕР АЛЬ...</td>\n    </tr>\n    <tr>\n      <th>...</th>\n      <td>...</td>\n      <td>...</td>\n    </tr>\n    <tr>\n      <th>1436</th>\n      <td>7.</td>\n      <td>Положения части 4 статьи 38 настоящего Федерал...</td>\n    </tr>\n    <tr>\n      <th>1437</th>\n      <td>8.</td>\n      <td>Положения частей 5 - 8 статьи 34 настоящего Фе...</td>\n    </tr>\n    <tr>\n      <th>1438</th>\n      <td>9.</td>\n      <td>Части 3 - 5 статьи 100 применяются до дня всту...</td>\n    </tr>\n    <tr>\n      <th>1439</th>\n      <td>11.2011</td>\n      <td>N 323-ФЗ (ред. от</td>\n    </tr>\n    <tr>\n      <th>1440</th>\n      <td>1.8</td>\n      <td>МБ\\n26\\n 35\\n 84 18\\nВСЕ КОММЕНТАРИИ  |ПОПУЛЯР...</td>\n    </tr>\n  </tbody>\n</table>\n<p>1441 rows × 2 columns</p>\n</div>"
     },
     "execution_count": 6,
     "metadata": {},
     "output_type": "execute_result"
    }
   ],
   "source": [
    "import pandas as pd\n",
    "df = pd.read_csv('articles.csv')\n",
    "df"
   ],
   "metadata": {
    "collapsed": false,
    "ExecuteTime": {
     "end_time": "2024-12-04T18:27:08.591307Z",
     "start_time": "2024-12-04T18:27:07.766273Z"
    }
   },
   "id": "3e7273af9f30842",
   "execution_count": 6
  },
  {
   "cell_type": "code",
   "outputs": [],
   "source": [],
   "metadata": {
    "collapsed": false
   },
   "id": "2122874dd5b6a53c"
  }
 ],
 "metadata": {
  "kernelspec": {
   "display_name": "Python 3",
   "language": "python",
   "name": "python3"
  },
  "language_info": {
   "codemirror_mode": {
    "name": "ipython",
    "version": 2
   },
   "file_extension": ".py",
   "mimetype": "text/x-python",
   "name": "python",
   "nbconvert_exporter": "python",
   "pygments_lexer": "ipython2",
   "version": "2.7.6"
  }
 },
 "nbformat": 4,
 "nbformat_minor": 5
}
